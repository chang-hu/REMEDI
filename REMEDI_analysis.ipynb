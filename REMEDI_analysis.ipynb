{
 "cells": [
  {
   "cell_type": "markdown",
   "id": "74c9b08b-0100-4c5c-960f-2de2d0df26c6",
   "metadata": {
    "jp-MarkdownHeadingCollapsed": true,
    "tags": []
   },
   "source": [
    "This notebook loads a trained REMEDI RL model and perform one simulation episode starting from the introduction of PSC pathophysiology to healthy condition. \n",
    "\n",
    "We then visualize the results from the simulation."
   ]
  },
  {
   "cell_type": "code",
   "execution_count": null,
   "id": "a05bfd74-180c-4cde-99fe-1e18d191978c",
   "metadata": {},
   "outputs": [],
   "source": [
    "import numpy as np\n",
    "import matplotlib.pyplot as plt\n",
    "\n",
    "from src.rl_env import psc_ba_env\n",
    "from src.rl_eval import plot_entire_duration, plot_one_day\n",
    "\n",
    "from stable_baselines3.common.vec_env import DummyVecEnv, VecNormalize\n",
    "from stable_baselines3 import PPO, A2C\n",
    "\n",
    "import glob\n",
    "from munch import Munch"
   ]
  },
  {
   "cell_type": "code",
   "execution_count": null,
   "id": "10beeff8-3650-4393-8fdb-6d5d19eda578",
   "metadata": {},
   "outputs": [],
   "source": [
    "plt.show()\n",
    "\n",
    "import matplotlib as mpl\n",
    "mpl.rcParams['figure.dpi'] = 180\n",
    "mpl.rcParams.update({'font.size': 10})"
   ]
  },
  {
   "cell_type": "code",
   "execution_count": null,
   "id": "56bfc16b-3615-4386-a057-004502f0a3a4",
   "metadata": {
    "tags": []
   },
   "outputs": [],
   "source": [
    "rl_state_names = [\"li_cCA\", \"li_cCDCA\", \"li_cSBA\", \n",
    "                  \"bd_cCA\", \"bd_cCDCA\", \"bd_cSBA\", \n",
    "                  \"dsi_cCA\", \"dsi_cCDCA\", \"dsi_cSBA\", \"dsi_uCA\", \"dsi_uCDCA\", \"dsi_uSBA\", \n",
    "                  \"co_cCA\", \"co_cCDCA\", \"co_cSBA\", \"co_uCA\", \"co_uCDCA\", \"co_uSBA\", \n",
    "                  \"pl_cCA\", \"pl_cCDCA\", \"pl_cSBA\", \"pl_uCA\", \"pl_uCDCA\", \"pl_uSBA\", \n",
    "                  \"synthesis\", \"syn_frac_CA\", \"hep_extract_ratio_conj_tri\", \"hep_extract_ratio_conj_di\", \"max_asbt_rate\"]"
   ]
  },
  {
   "cell_type": "markdown",
   "id": "cdc06445-8fdd-4e3d-ac52-50504ccf2788",
   "metadata": {},
   "source": [
    "# Setup"
   ]
  },
  {
   "cell_type": "markdown",
   "id": "291e8649-b546-4095-8258-be35aaceaf32",
   "metadata": {},
   "source": [
    "The setup should match the arguments used when training REMEDI. Model checkpoint path also contains a datetime identifier (`checkpoint_datetime`), specify accordingly."
   ]
  },
  {
   "cell_type": "code",
   "execution_count": null,
   "id": "0a4ea326-14ad-4919-8479-6f4d123e8bfe",
   "metadata": {
    "tags": []
   },
   "outputs": [],
   "source": [
    "args = Munch()\n",
    "\n",
    "args.adaptation_duration = 1440 * 240\n",
    "args.algorithm = \"PPO\"\n",
    "args.data_ID = \"median\"\n",
    "args.max_ba_flow = 3.0"
   ]
  },
  {
   "cell_type": "code",
   "execution_count": null,
   "id": "3d4496fa-53e7-4833-9749-cb83ca743a27",
   "metadata": {},
   "outputs": [],
   "source": [
    "checkpoint_datetime = \"20230909_1700\"\n",
    "\n",
    "suffix = f\"{checkpoint_datetime}_{args.data_ID}_{args.max_ba_flow}\"\n",
    "model_path = f\"experiments/{args.algorithm}/logs_{suffix}\""
   ]
  },
  {
   "cell_type": "markdown",
   "id": "f2e5ea99-ac97-4d5c-b3eb-e8cfda7f963e",
   "metadata": {},
   "source": [
    "# Load model/env checkpoint"
   ]
  },
  {
   "cell_type": "markdown",
   "id": "09416cd8-cb0e-4748-be35-9c4add1d9f71",
   "metadata": {},
   "source": [
    "Load the model/env after training completes (`checkpoint_to_load = \"after_training\"`), or specify a specific checkpoint (`checkpoint_to_load = ?_steps`)."
   ]
  },
  {
   "cell_type": "code",
   "execution_count": null,
   "id": "1862861d-f732-42d2-8cf2-8633cfd8dde3",
   "metadata": {
    "tags": []
   },
   "outputs": [],
   "source": [
    "checkpoint_to_load = \"after_training\""
   ]
  },
  {
   "cell_type": "code",
   "execution_count": null,
   "id": "5c4e4f7c-36af-403d-b0c0-1ee775ac142b",
   "metadata": {
    "tags": []
   },
   "outputs": [],
   "source": [
    "model_to_load = f\"{model_path}/rl_model_{checkpoint_to_load}\"\n",
    "env_to_load = f\"{model_path}/rl_model_vecnormalize_{checkpoint_to_load}\""
   ]
  },
  {
   "cell_type": "code",
   "execution_count": null,
   "id": "1c05a84f-8f5b-417a-959c-c8ceb50a56d9",
   "metadata": {},
   "outputs": [],
   "source": [
    "env = DummyVecEnv([lambda: psc_ba_env(args.adaptation_duration, args.data_ID, args.max_ba_flow)])\n",
    "env = VecNormalize.load(f\"{env_to_load}.pkl\", env)\n",
    "\n",
    "if args.algorithm == \"PPO\":\n",
    "    model = PPO.load(f\"{model_to_load}\", env=env)\n",
    "elif args.algorithm == \"A2C\":\n",
    "    model = A2C.load(f\"{model_to_load}\", env=env)\n",
    "\n",
    "print(f\"Loading model from {model_to_load}\")\n",
    "\n",
    "env.training = False"
   ]
  },
  {
   "cell_type": "markdown",
   "id": "e89630f4-6701-4c63-aeaa-d82c541f7a2d",
   "metadata": {},
   "source": [
    "# Run the trained RL model for one episode"
   ]
  },
  {
   "cell_type": "markdown",
   "id": "c5380158-7d72-4692-a0ff-6160d62e5cc4",
   "metadata": {
    "tags": []
   },
   "source": [
    "Run the trained RL model for one simulation episode and save the trajectories, until the maximum duration is reached or physiological ranges are violated."
   ]
  },
  {
   "cell_type": "code",
   "execution_count": null,
   "id": "c6feba11-66e2-4bd0-93bc-8c6047fefd0f",
   "metadata": {
    "tags": []
   },
   "outputs": [],
   "source": [
    "state = env.reset()\n",
    "model.set_random_seed(42)\n",
    "\n",
    "states = [np.copy(env.get_original_obs()[0])]\n",
    "timepoints = [0]\n",
    "trajectories = []\n",
    "rewards = []\n",
    "rewards_info = []\n",
    "\n",
    "while True:\n",
    "    action, _states = model.predict(state, deterministic=False)\n",
    "\n",
    "    state, reward, done, info = env.step(action)\n",
    "\n",
    "    states.append(np.copy(env.get_original_obs()[0]))\n",
    "    timepoints.append(info[0][\"ODE_time\"])\n",
    "    trajectories.append(np.copy(info[0][\"ODE_traj\"]))\n",
    "    rewards.append(reward[0])\n",
    "    rewards_info.append([reward[0], info[0][\"cholesterol_elimination\"], info[0][\"toxicity\"], info[0][\"digestion\"], info[0][\"fitting_error\"], info[0][\"param_deviation\"]])\n",
    "            \n",
    "    if done:\n",
    "        del states[-1]\n",
    "        normalized_final_state = info[0][\"terminal_observation\"]\n",
    "        states.append(np.copy(env.unnormalize_obs(normalized_final_state)))\n",
    "        break\n",
    "\n",
    "for i in range(env.get_attr(\"N_STATE\")[0]):\n",
    "    if (states[-1][i] + 1e-9 < env.get_attr(\"boundary_low\")[0][i]) or (states[-1][i] - 1e-9 > env.get_attr(\"boundary_high\")[0][i]):\n",
    "        print(f\"VIOLATE BOUNDARY!\\n{rl_state_names[i]}: {states[-1][i]:.3f}\")\n",
    "\n",
    "    if normalized_final_state[i] == 10:\n",
    "        print(f\"ABOVE CLIPPING THRESHOLD!\\n{rl_state_names[i]}\")\n",
    "    elif normalized_final_state[i] == -10:\n",
    "        print(f\"BELOW CLIPPING THRESHOLD!\\n{rl_state_names[i]}\")\n",
    "        \n",
    "states = np.array(states)\n",
    "timepoints = np.array(timepoints)\n",
    "trajectories = np.array(trajectories)\n",
    "rewards_info = np.array(rewards_info)"
   ]
  },
  {
   "cell_type": "markdown",
   "id": "ff2fffcb-3ca1-4a94-8088-d517fb7643df",
   "metadata": {},
   "source": [
    "Note: when the episode ends because of the last state exceeded their physiological ranges, those values might also exceed the clipping threshold of VecNormalize, and will be clipped before normalizing. In that case, unnormalize_obs won't be able to recover the original (unclipped) values."
   ]
  },
  {
   "cell_type": "markdown",
   "id": "c3931c68-7702-4a94-9b95-aea1113aebc4",
   "metadata": {},
   "source": [
    "# Plot the entire bile acid trajectories (fasting state)"
   ]
  },
  {
   "cell_type": "code",
   "execution_count": null,
   "id": "0fe01a0c-2b42-4079-aa40-934c50353610",
   "metadata": {
    "tags": []
   },
   "outputs": [],
   "source": [
    "plot_entire_duration(states, timepoints, env.get_attr(\"N_STATE\")[0], ground_truth=args.data_ID)"
   ]
  },
  {
   "cell_type": "markdown",
   "id": "2b36f492-526b-43ec-91fa-f37ad35e9e96",
   "metadata": {
    "tags": []
   },
   "source": [
    "# Plot adaptive parameter trajectories"
   ]
  },
  {
   "cell_type": "code",
   "execution_count": null,
   "id": "49a75049-d730-42a9-adac-e165a0652228",
   "metadata": {},
   "outputs": [],
   "source": [
    "N_ACTION_VAR = env.get_attr(\"N_ACTION_VAR\")[0]\n",
    "\n",
    "fig, ax = plt.subplots(figsize=(8, 4))\n",
    "plt.plot(states[:,-N_ACTION_VAR:-1], label=[env.get_attr(\"action_var_names\")[0][i] for i in range(N_ACTION_VAR-1)], alpha=0.8)\n",
    "\n",
    "plt.legend(loc='upper center')\n",
    "plt.xlabel(\"Day\")\n",
    "plt.grid(linestyle=\"--\")\n",
    "\n",
    "ax_right = ax.twinx()\n",
    "ax_right.set_ylabel(\"max_asbt_rate\")\n",
    "\n",
    "i = N_ACTION_VAR-1\n",
    "ax_right.plot(states[:,-N_ACTION_VAR+i], label=env.get_attr(\"action_var_names\")[0][i], alpha=0.8, color = \"tab:purple\")\n",
    "plt.legend(loc='upper right')"
   ]
  },
  {
   "cell_type": "markdown",
   "id": "9ac0c7da-72ef-41a7-aabf-648cbe33365f",
   "metadata": {},
   "source": [
    "# Plot reward term trajectories"
   ]
  },
  {
   "cell_type": "code",
   "execution_count": null,
   "id": "81bfcbcd-ca7e-452f-b7fd-3d60aad5c35d",
   "metadata": {
    "tags": []
   },
   "outputs": [],
   "source": [
    "fig, ax = plt.subplots(figsize=(8, 4))\n",
    "\n",
    "plt.plot(rewards_info[:, 1], label='cholesterol elimination')\n",
    "plt.plot(rewards_info[:, 2], label='toxicity')\n",
    "plt.plot(rewards_info[:, 3], label='digestion')\n",
    "\n",
    "plt.plot(0.2 * rewards_info[:, 4], label='fitting error')\n",
    "plt.plot(0.02 * rewards_info[:, 5], label='param deviation')\n",
    "\n",
    "plt.xlabel(\"Day\")\n",
    "plt.ylabel(\"Reward\")\n",
    "\n",
    "plt.grid(linestyle=\"--\")\n",
    "plt.legend()"
   ]
  },
  {
   "cell_type": "markdown",
   "id": "c9d2493f-6183-4728-8f8f-8a9a316db84e",
   "metadata": {},
   "source": [
    "# Plot last 24-hour bile acid trajectories (every minute)"
   ]
  },
  {
   "cell_type": "code",
   "execution_count": null,
   "id": "0f0668c6-c482-47ca-9978-86d2106e0d77",
   "metadata": {},
   "outputs": [],
   "source": [
    "plot_one_day(trajectories[-1, :, :])"
   ]
  }
 ],
 "metadata": {
  "kernelspec": {
   "display_name": "sb3",
   "language": "python",
   "name": "sb3"
  },
  "language_info": {
   "codemirror_mode": {
    "name": "ipython",
    "version": 3
   },
   "file_extension": ".py",
   "mimetype": "text/x-python",
   "name": "python",
   "nbconvert_exporter": "python",
   "pygments_lexer": "ipython3",
   "version": "3.10.7"
  }
 },
 "nbformat": 4,
 "nbformat_minor": 5
}
